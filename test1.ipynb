{
  "cells": [
    {
      "cell_type": "code",
      "source": [
        "!pip install -q apache-beam[interactive]"
      ],
      "metadata": {
        "id": "1YTo2omx4656"
      },
      "execution_count": null,
      "outputs": []
    },
    {
      "cell_type": "markdown",
      "source": [
        "## Overview\n",
        "\n",
        "I am playing with apache beam to create a simple pipeline.  This is based on  [An interactive overview of beam](https://beam.apache.org/get-started/an-interactive-overview-of-beam/) so check it out for more background.\n",
        "\n",
        "As in the example, I will start the pipeline with a simple python list\n",
        "of data.  Then I will try to make the input more complicated."
      ],
      "metadata": {
        "id": "2OGaFcy064jq"
      }
    },
    {
      "cell_type": "code",
      "execution_count": null,
      "metadata": {
        "id": "rV6Qj2Ig43tN"
      },
      "outputs": [],
      "source": [
        "import apache_beam as beam\n",
        "\n",
        "inputs = [0, 1, 2, 3, 4, 5]"
      ]
    },
    {
      "cell_type": "markdown",
      "source": [
        "Let's make our first pipeline"
      ],
      "metadata": {
        "id": "Pl1LM44F8ao2"
      }
    },
    {
      "cell_type": "code",
      "source": [
        "with beam.Pipeline() as pipeline:\n",
        "  outputs = (\n",
        "      pipeline\n",
        "      | 'Create pipeline input' >> beam.Create(inputs)\n",
        "  )\n",
        "\n",
        "  # you cannot print the outputs directly,\n",
        "  # outputs is a PCollection, which we can\n",
        "  # contiue using...\n",
        "  outputs | 'Print output' >> beam.Map(print)"
      ],
      "metadata": {
        "id": "tK6SArYF8aAg"
      },
      "execution_count": null,
      "outputs": []
    },
    {
      "cell_type": "markdown",
      "source": [
        "Maps allow 1-1 transfroms..."
      ],
      "metadata": {
        "id": "47se1DbN-ESd"
      }
    },
    {
      "cell_type": "code",
      "source": [
        "with beam.Pipeline() as pipeline:\n",
        "  outputs = (\n",
        "      pipeline\n",
        "      | 'Create pipeline input' >> beam.Create(inputs)\n",
        "      | 'Multiply the value by 2' >> beam.Map(lambda x: x * 2)\n",
        "      | 'Print output' >> beam.Map(print)\n",
        "  )\n"
      ],
      "metadata": {
        "id": "toKjEDla9p41"
      },
      "execution_count": null,
      "outputs": []
    },
    {
      "cell_type": "markdown",
      "source": [
        "FlatMaps allow 1-many transformationss"
      ],
      "metadata": {
        "id": "K1vFiYzg-aAc"
      }
    },
    {
      "cell_type": "code",
      "source": [
        "import math\n",
        "\n",
        "with beam.Pipeline() as pipeline:\n",
        "  outputs = (\n",
        "      pipeline\n",
        "      | 'Create pipeline input' >> beam.Create(inputs)\n",
        "      | 'Multiply the value by 2' >> beam.Map(lambda x: x * 2)\n",
        "      | 'FlatMap' >> beam.FlatMap(lambda x: [x, math.sqrt(x)])\n",
        "      | 'Print output' >> beam.Map(print)\n",
        "  )"
      ],
      "metadata": {
        "id": "m0gThFzq-yFL"
      },
      "execution_count": null,
      "outputs": []
    },
    {
      "cell_type": "markdown",
      "source": [
        "filter does what you expect... filter"
      ],
      "metadata": {
        "id": "HIumqPG8_Zyx"
      }
    },
    {
      "cell_type": "code",
      "source": [
        "with beam.Pipeline() as pipeline:\n",
        "  outputs = (\n",
        "      pipeline\n",
        "      | 'Create pipeline input' >> beam.Create(inputs)\n",
        "      | 'Multiply the value by 2' >> beam.Map(lambda x: x * 2)\n",
        "      | 'FlatMap' >> beam.FlatMap(lambda x: [x, math.sqrt(x)])\n",
        "      | 'Filter' >> beam.Filter(lambda x: x % 2 == 0)\n",
        "      | 'Print output' >> beam.Map(print)\n",
        "  )"
      ],
      "metadata": {
        "id": "k2Nne1WE_hVo"
      },
      "execution_count": null,
      "outputs": []
    },
    {
      "cell_type": "markdown",
      "source": [],
      "metadata": {
        "id": "xdyMczgkA-Yt"
      }
    },
    {
      "cell_type": "markdown",
      "source": [
        "combine is like reduce\n",
        "first use CombineGlobally which returns a single value.  sum is the python built-in function.  you can also give a custom function CombineFn"
      ],
      "metadata": {
        "id": "NcQVIuPpACDh"
      }
    },
    {
      "cell_type": "code",
      "source": [
        "with beam.Pipeline() as pipeline:\n",
        "  outputs = (\n",
        "      pipeline\n",
        "      | 'Create pipeline input' >> beam.Create(inputs)\n",
        "      | 'Multiply the value by 2' >> beam.Map(lambda x: x * 2)\n",
        "      | 'Combine' >> beam.CombineGlobally(sum)\n",
        "      | 'Print output' >> beam.Map(print)\n",
        "  )"
      ],
      "metadata": {
        "id": "SB9U-BZi_xZD"
      },
      "execution_count": null,
      "outputs": []
    },
    {
      "cell_type": "markdown",
      "source": [
        "group by key needs data with keys"
      ],
      "metadata": {
        "id": "i-UGCX97CdEn"
      }
    },
    {
      "cell_type": "code",
      "source": [
        "keyed_inputs = [ ('Daniel',22), ('Daniel',30),('Bob',28),('Bob',10)]\n",
        "with beam.Pipeline() as pipeline:\n",
        "  outputs = (\n",
        "      pipeline\n",
        "      | 'Create pipeline input' >> beam.Create(keyed_inputs)\n",
        "      | 'Group by Person' >> beam.GroupByKey()\n",
        "      | 'sum over key' >> beam.CombineValues(sum)\n",
        "      | 'Print output' >> beam.Map(print)\n",
        "  )"
      ],
      "metadata": {
        "id": "Qpp996arBQ3G"
      },
      "execution_count": null,
      "outputs": []
    },
    {
      "cell_type": "markdown",
      "source": [
        "Building an average for each key is more difficult and you need to define a *CombineFn*"
      ],
      "metadata": {
        "id": "Mj2hEW7DG_1a"
      }
    },
    {
      "cell_type": "code",
      "source": [
        "class AverageFn(beam.CombineFn):\n",
        "  def create_accumulator(self):\n",
        "    return (0, 0)  # (total, count)\n",
        "\n",
        "  def add_input(self, accumulator, input):\n",
        "    total, count = accumulator\n",
        "    return total + input, count + 1\n",
        "\n",
        "  def merge_accumulators(self, accumulators):\n",
        "    total, count = 0, 0\n",
        "    for acc in accumulators:\n",
        "      total += acc[0]\n",
        "      count += acc[1]\n",
        "    return total, count\n",
        "\n",
        "  def extract_output(self, accumulator):\n",
        "    total, count = accumulator\n",
        "    return total / count"
      ],
      "metadata": {
        "id": "9eWnyV95G-oH"
      },
      "execution_count": null,
      "outputs": []
    },
    {
      "cell_type": "code",
      "source": [
        "keyed_inputs = [ ('Daniel',22), ('Daniel',30),('Bob',28),('Bob',10)]\n",
        "with beam.Pipeline() as pipeline:\n",
        "  outputs = (\n",
        "      pipeline\n",
        "      | 'Create pipeline input' >> beam.Create(keyed_inputs)\n",
        "      | 'Group by Person' >> beam.GroupByKey()\n",
        "      | 'mean per person' >> beam.CombineValues(AverageFn())\n",
        "      | 'Print output' >> beam.Map(print)\n",
        "  )"
      ],
      "metadata": {
        "id": "1sV_vF-THYZr"
      },
      "execution_count": null,
      "outputs": []
    },
    {
      "cell_type": "markdown",
      "source": [
        "## Playing with FileIO\n",
        "\n",
        "Lets make 3 files with random digits (rnd_data_1.csv,rnd_data_2.csv,rnd_data_3.csv) we will load the data later"
      ],
      "metadata": {
        "id": "OpJhCukkIW3k"
      }
    },
    {
      "cell_type": "code",
      "source": [
        "from apache_beam.io import fileio\n",
        "import pandas as pd\n",
        "import numpy as np\n",
        "import os,glob\n",
        "\n",
        "# Create a random matrix of size 10x3\n",
        "random_matrix = np.random.rand(10, 3)\n",
        "np.savetxt(\"rnd_data_1.csv\", random_matrix, delimiter=\",\")\n",
        "random_matrix = np.random.rand(10, 3)\n",
        "np.savetxt(\"rnd_data_2.csv\", random_matrix, delimiter=\",\")\n",
        "random_matrix = np.random.rand(10, 3)\n",
        "np.savetxt(\"rnd_data_3.csv\", random_matrix, delimiter=\",\")"
      ],
      "metadata": {
        "id": "sYwyMYWBIU9M"
      },
      "execution_count": null,
      "outputs": []
    },
    {
      "cell_type": "code",
      "source": [
        "with beam.Pipeline() as pipeline:\n",
        "  csv_files = (\n",
        "      pipeline\n",
        "      | 'get csv files' >> fileio.MatchFiles('*.csv')\n",
        "      | 'read csv files' >> fileio.ReadMatches()\n",
        "      | 'Extract filenames' >> beam.Map(lambda file: file.metadata.path)\n",
        "      | 'print files' >> beam.Map(print)\n",
        "  )\n",
        "\n",
        ""
      ],
      "metadata": {
        "id": "f6YGDxtpKiQR"
      },
      "execution_count": null,
      "outputs": []
    },
    {
      "cell_type": "code",
      "source": [
        "def read_csv(file):\n",
        "  print(f'reading {file}')\n",
        "  return pd.read_csv(file).values\n",
        "\n",
        "def run_pipeline(file_pattern):\n",
        "    with beam.Pipeline() as pipeline:\n",
        "        filenames = (\n",
        "            pipeline\n",
        "            | 'Match files' >> fileio.MatchFiles(file_pattern)\n",
        "            | 'Read matched files' >> fileio.ReadMatches()\n",
        "            | 'Extract filenames' >> beam.Map(lambda file: file.metadata.path)\n",
        "            | 'read csv' >> beam.Map(read_csv)\n",
        "            | 'combine into list' >> beam.combiners.ToList()\n",
        "            | 'Print output' >> beam.Map(print)\n",
        "        )\n",
        "\n",
        "file_pattern = './*.csv'\n",
        "run_pipeline(file_pattern)\n",
        "\n",
        "print(f'glob: {glob.glob(os.path.join(\".\", \"*.csv\"))}')"
      ],
      "metadata": {
        "id": "fTP7ax3ARZxv"
      },
      "execution_count": null,
      "outputs": []
    },
    {
      "cell_type": "code",
      "source": [
        "## clean up\n",
        "files = [ file for file in os.listdir() if file.endswith('.csv') ]\n",
        "for file in files:\n",
        "  os.unlink(file)"
      ],
      "metadata": {
        "id": "ISfqXSq8JnC6"
      },
      "execution_count": null,
      "outputs": []
    },
    {
      "cell_type": "markdown",
      "source": [],
      "metadata": {
        "id": "ybms8AfJKJ60"
      }
    },
    {
      "cell_type": "code",
      "source": [],
      "metadata": {
        "id": "nEiQ0Mj6XOvn"
      },
      "execution_count": null,
      "outputs": []
    }
  ],
  "metadata": {
    "kernelspec": {
      "display_name": "tf_env",
      "language": "python",
      "name": "python3"
    },
    "language_info": {
      "codemirror_mode": {
        "name": "ipython",
        "version": 3
      },
      "file_extension": ".py",
      "mimetype": "text/x-python",
      "name": "python",
      "nbconvert_exporter": "python",
      "pygments_lexer": "ipython3",
      "version": "3.10.10"
    },
    "colab": {
      "provenance": []
    }
  },
  "nbformat": 4,
  "nbformat_minor": 0
}